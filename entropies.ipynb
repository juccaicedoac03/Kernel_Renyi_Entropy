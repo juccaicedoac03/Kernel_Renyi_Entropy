{
  "nbformat": 4,
  "nbformat_minor": 0,
  "metadata": {
    "language_info": {
      "name": "python",
      "codemirror_mode": {
        "name": "ipython",
        "version": 3
      },
      "version": "3.8.2-final"
    },
    "orig_nbformat": 2,
    "file_extension": ".py",
    "mimetype": "text/x-python",
    "name": "python",
    "npconvert_exporter": "python",
    "pygments_lexer": "ipython3",
    "version": 3,
    "kernelspec": {
      "name": "python3",
      "display_name": "Python 3"
    },
    "colab": {
      "name": "entropies.ipynb",
      "provenance": [],
      "collapsed_sections": [],
      "include_colab_link": true
    }
  },
  "cells": [
    {
      "cell_type": "markdown",
      "metadata": {
        "id": "view-in-github",
        "colab_type": "text"
      },
      "source": [
        "<a href=\"https://colab.research.google.com/github/juccaicedoac03/Kernel_Renyi_Entropy/blob/master/entropies.ipynb\" target=\"_parent\"><img src=\"https://colab.research.google.com/assets/colab-badge.svg\" alt=\"Open In Colab\"/></a>"
      ]
    },
    {
      "cell_type": "code",
      "metadata": {
        "id": "DvRQkLo4tVB_",
        "colab_type": "code",
        "colab": {
          "base_uri": "https://localhost:8080/",
          "height": 541
        },
        "outputId": "24d3da26-6665-47de-bb60-103ea8df7325"
      },
      "source": [
        "FILEID = \"1SeErGgDJzgEcCh8qNeAzXvQivDMOuyGx\"\n",
        "!wget --load-cookies /tmp/cookies.txt \"https://docs.google.com/uc?export=download&confirm=$(wget --quiet --save-cookies /tmp/cookies.txt --keep-session-cookies --no-check-certificate 'https://docs.google.com/uc?export=download&id='$FILEID -O- | sed -rn 's/.*confirm=([0-9A-Za-z_]+).*/\\1\\n/p')&id=\"$FILEID -O codigos.zip && rm -rf /tmp/cookies.txt\n",
        "!unzip codigos.zip\n",
        "!dir"
      ],
      "execution_count": 11,
      "outputs": [
        {
          "output_type": "stream",
          "text": [
            "--2020-04-28 21:34:02--  https://docs.google.com/uc?export=download&confirm=&id=1SeErGgDJzgEcCh8qNeAzXvQivDMOuyGx\n",
            "Resolving docs.google.com (docs.google.com)... 172.217.204.101, 172.217.204.113, 172.217.204.139, ...\n",
            "Connecting to docs.google.com (docs.google.com)|172.217.204.101|:443... connected.\n",
            "HTTP request sent, awaiting response... 302 Moved Temporarily\n",
            "Location: https://doc-10-b8-docs.googleusercontent.com/docs/securesc/88mvcc09d9j359hkv435mf18dh2tbqof/pl7klbdq87hn37qej5r35u4m122mc496/1588109625000/13064322042220169363/01662338927730119815Z/1SeErGgDJzgEcCh8qNeAzXvQivDMOuyGx?e=download [following]\n",
            "--2020-04-28 21:34:02--  https://doc-10-b8-docs.googleusercontent.com/docs/securesc/88mvcc09d9j359hkv435mf18dh2tbqof/pl7klbdq87hn37qej5r35u4m122mc496/1588109625000/13064322042220169363/01662338927730119815Z/1SeErGgDJzgEcCh8qNeAzXvQivDMOuyGx?e=download\n",
            "Resolving doc-10-b8-docs.googleusercontent.com (doc-10-b8-docs.googleusercontent.com)... 173.194.216.132, 2607:f8b0:400c:c12::84\n",
            "Connecting to doc-10-b8-docs.googleusercontent.com (doc-10-b8-docs.googleusercontent.com)|173.194.216.132|:443... connected.\n",
            "HTTP request sent, awaiting response... 302 Found\n",
            "Location: https://docs.google.com/nonceSigner?nonce=2dul0agb5kc7u&continue=https://doc-10-b8-docs.googleusercontent.com/docs/securesc/88mvcc09d9j359hkv435mf18dh2tbqof/pl7klbdq87hn37qej5r35u4m122mc496/1588109625000/13064322042220169363/01662338927730119815Z/1SeErGgDJzgEcCh8qNeAzXvQivDMOuyGx?e%3Ddownload&hash=8mvc50mutt10m7bunobgs9lvvmvkn2g0 [following]\n",
            "--2020-04-28 21:34:02--  https://docs.google.com/nonceSigner?nonce=2dul0agb5kc7u&continue=https://doc-10-b8-docs.googleusercontent.com/docs/securesc/88mvcc09d9j359hkv435mf18dh2tbqof/pl7klbdq87hn37qej5r35u4m122mc496/1588109625000/13064322042220169363/01662338927730119815Z/1SeErGgDJzgEcCh8qNeAzXvQivDMOuyGx?e%3Ddownload&hash=8mvc50mutt10m7bunobgs9lvvmvkn2g0\n",
            "Connecting to docs.google.com (docs.google.com)|172.217.204.101|:443... connected.\n",
            "HTTP request sent, awaiting response... 302 Found\n",
            "Location: https://doc-10-b8-docs.googleusercontent.com/docs/securesc/88mvcc09d9j359hkv435mf18dh2tbqof/pl7klbdq87hn37qej5r35u4m122mc496/1588109625000/13064322042220169363/01662338927730119815Z/1SeErGgDJzgEcCh8qNeAzXvQivDMOuyGx?e=download&nonce=2dul0agb5kc7u&user=01662338927730119815Z&hash=9kaorkgucus5p24o56ukjbgvhepst63t [following]\n",
            "--2020-04-28 21:34:02--  https://doc-10-b8-docs.googleusercontent.com/docs/securesc/88mvcc09d9j359hkv435mf18dh2tbqof/pl7klbdq87hn37qej5r35u4m122mc496/1588109625000/13064322042220169363/01662338927730119815Z/1SeErGgDJzgEcCh8qNeAzXvQivDMOuyGx?e=download&nonce=2dul0agb5kc7u&user=01662338927730119815Z&hash=9kaorkgucus5p24o56ukjbgvhepst63t\n",
            "Connecting to doc-10-b8-docs.googleusercontent.com (doc-10-b8-docs.googleusercontent.com)|173.194.216.132|:443... connected.\n",
            "HTTP request sent, awaiting response... 200 OK\n",
            "Length: 8572 (8.4K) [application/zip]\n",
            "Saving to: ‘codigos.zip’\n",
            "\n",
            "codigos.zip         100%[===================>]   8.37K  --.-KB/s    in 0s      \n",
            "\n",
            "2020-04-28 21:34:02 (55.4 MB/s) - ‘codigos.zip’ saved [8572/8572]\n",
            "\n",
            "Archive:  codigos.zip\n",
            "   creating: Aux_KE/\n",
            "  inflating: Aux_KE/functions.py     \n",
            "  inflating: Aux_KE/ventana.mat      \n",
            "Aux_KE\tcodigos.zip  drive  sample_data\n"
          ],
          "name": "stdout"
        }
      ]
    },
    {
      "cell_type": "markdown",
      "metadata": {
        "id": "Gof6e8CQXuxF",
        "colab_type": "text"
      },
      "source": [
        "#ITL from Kernel matrices"
      ]
    },
    {
      "cell_type": "markdown",
      "metadata": {
        "id": "2ZTZHvU8X4ny",
        "colab_type": "text"
      },
      "source": [
        "Shannon entropy is defined as the expected value of the amount of information of the outcomes of a random variable:\n",
        "\n",
        ">$H(x)=E\\{I(x)\\} = \\int p(x)I(x)dx$,\n",
        "\n",
        ">Were $I(x) = -\\log p(x)$ and $\\int p(x)=1$\n",
        "\n",
        "In general, the expected value associed with a monotonic function $g(x)$ with inverse $g(x)^{-1}$:\n",
        "\n",
        ">$E\\{x\\} = g^{-1}\\left(\\int p(x)g(x)dx\\right)$\n",
        "\n",
        "$g(x)$ are restricted to only 2 classes [Panche et al. 2019]: $g(x) = cx$ and $c2^{(1-\\alpha)x}$ for both Shannon $H_{s}(\\cdot)$ and Renyi $H_{\\alpha}(\\cdot)$ entropy, respectively.\n",
        "\n",
        ">$H_{s}(x) = -\\int p(x)\\log{p(x)}dx$\n",
        "\n",
        ">$H_{\\alpha}(x) = \\frac{1}{1-\\alpha}\\log{\\int}p^{\\alpha}(x)dx$\n",
        "\n",
        "[Giraldo et al. 2014] introduces an entropy-like quantity with properties that closely resemble those of Renyi's entropy while avoiding the estimation of probability distributions altogether. Then, the kernel-based formulation of Renyi's entropy using a Gram matrix $A\\in\\mathbb{R}^{n\\times n}$ with elements $a_{ij} = \\kappa(x_{i},x_{j})$, is defined as:\n",
        "\n",
        ">$H_{\\alpha} = \\frac{1}{1-\\alpha}\\log{\\left(\\text{tr}(A^{\\alpha})\\right)}$\n",
        "\n",
        "where $A$ is a positive definite matrix with eigenvalues $\\lambda_{i}$ and eigenvectors $\\vec{u}_{i}$, and can be expresed using espectral theorem as $A=U\\Lambda U'$ , then the Renyi's entropy is defined belows:\n",
        "\n",
        ">$H_{\\alpha} = \\frac{1}{1-\\alpha}\\log{\\left(\\text{tr}(U\\Lambda^{\\alpha}U')\\right)}$\n"
      ]
    },
    {
      "cell_type": "code",
      "metadata": {
        "id": "jOIGQyMfPnNb",
        "colab_type": "code",
        "colab": {}
      },
      "source": [
        "import sys\n",
        "#agregar carpeta con funciones\n",
        "sys.path.insert(1, './Aux_KE')"
      ],
      "execution_count": 0,
      "outputs": []
    },
    {
      "cell_type": "code",
      "metadata": {
        "id": "3772AxonKL_C",
        "colab_type": "code",
        "colab": {}
      },
      "source": [
        "import numpy as np\n",
        "import numpy.matlib\n",
        "from scipy.io import loadmat\n",
        "import functions as fcn\n",
        "import matplotlib.pyplot as plt\n",
        "import scipy.spatial.distance as dis\n",
        "from sklearn.preprocessing import StandardScaler\n",
        "from scipy.stats import norm "
      ],
      "execution_count": 0,
      "outputs": []
    },
    {
      "cell_type": "code",
      "metadata": {
        "id": "Dz2LG9fxKL_V",
        "colab_type": "code",
        "colab": {}
      },
      "source": [
        "data = loadmat('Aux_KE/ventana.mat')\n",
        "x = data['vector']"
      ],
      "execution_count": 0,
      "outputs": []
    },
    {
      "cell_type": "code",
      "metadata": {
        "id": "8_fOheQGKL_m",
        "colab_type": "code",
        "colab": {}
      },
      "source": [
        "def gauss_kernel(X):\n",
        "    d = dis.cdist(X,X)\n",
        "    sigma = np.median(d.ravel())\n",
        "    K = np.exp(-((d)**2)/(2*sigma**2))\n",
        "    return K"
      ],
      "execution_count": 0,
      "outputs": []
    },
    {
      "cell_type": "code",
      "metadata": {
        "id": "p0kNbJJsKL_y",
        "colab_type": "code",
        "colab": {}
      },
      "source": [
        "def kernel_entropy(A,alpha):\n",
        "    v,u = np.linalg.eig(A)\n",
        "    H = np.real((1/(1-alpha))*np.log(np.trace(u.dot(np.diag(v**alpha)).dot(np.matrix.getH(u)))))\n",
        "    return H"
      ],
      "execution_count": 0,
      "outputs": []
    },
    {
      "cell_type": "code",
      "metadata": {
        "id": "ivx158ymKL_8",
        "colab_type": "code",
        "colab": {}
      },
      "source": [
        "def KRenyiEn(x,alpha,tau=1):\n",
        "    if tau !=1:\n",
        "        pos = 0\n",
        "        Xm = []\n",
        "        while pos+tau+1<x.shape[1]:\n",
        "            Xm.append(x[:,pos:pos+tau].ravel())\n",
        "            pos = pos+tau\n",
        "        K = gauss_kernel(np.asarray(Xm))\n",
        "    else:\n",
        "        K = gauss_kernel(x.T)\n",
        "    Ke = K/np.trace(K)\n",
        "    H = kernel_entropy(Ke,alpha)\n",
        "    return H \n"
      ],
      "execution_count": 0,
      "outputs": []
    },
    {
      "cell_type": "code",
      "metadata": {
        "id": "MbAzlbnvKMAV",
        "colab_type": "code",
        "outputId": "c1a3fd44-39eb-4989-a0ca-cd4422f71317",
        "colab": {
          "base_uri": "https://localhost:8080/",
          "height": 34
        }
      },
      "source": [
        "KRenyiEn(x,1.01)"
      ],
      "execution_count": 30,
      "outputs": [
        {
          "output_type": "execute_result",
          "data": {
            "text/plain": [
              "1.0904364924238263"
            ]
          },
          "metadata": {
            "tags": []
          },
          "execution_count": 30
        }
      ]
    },
    {
      "cell_type": "code",
      "metadata": {
        "id": "EIgGr_3da93I",
        "colab_type": "code",
        "colab": {}
      },
      "source": [
        ""
      ],
      "execution_count": 0,
      "outputs": []
    }
  ]
}